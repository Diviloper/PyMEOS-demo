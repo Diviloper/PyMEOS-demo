{
 "cells": [
  {
   "cell_type": "markdown",
   "id": "106aad60",
   "metadata": {},
   "source": [
    "# PyMEOS\n",
    "\n",
    "This Notebook contains a demo of basic functionality of PyMEOS, separated in 3 sections:\n",
    "- Input\n",
    "- Output\n",
    "- Operations (examples with Pandas)"
   ]
  },
  {
   "cell_type": "code",
   "execution_count": 1,
   "id": "26629bb2",
   "metadata": {},
   "outputs": [],
   "source": [
    "from pymeos import *\n",
    "from datetime import datetime\n",
    "\n",
    "pymeos_initialize()"
   ]
  },
  {
   "cell_type": "markdown",
   "id": "a3ef94b6",
   "metadata": {},
   "source": [
    "## Input"
   ]
  },
  {
   "cell_type": "markdown",
   "id": "ae4c5631",
   "metadata": {},
   "source": [
    "### From Well-Know Text (WKT Spec: https://libmeos.org/movingfeaturesformats/wkt/)"
   ]
  },
  {
   "cell_type": "code",
   "execution_count": 2,
   "id": "8080246a",
   "metadata": {},
   "outputs": [
    {
     "data": {
      "text/plain": [
       "TBoolInst(t@2022-10-01 00:00:00+02)"
      ]
     },
     "execution_count": 2,
     "metadata": {},
     "output_type": "execute_result"
    }
   ],
   "source": [
    "TBoolInst('TRUE@2022-10-01')"
   ]
  },
  {
   "cell_type": "code",
   "execution_count": 3,
   "id": "9e716e96",
   "metadata": {},
   "outputs": [
    {
     "data": {
      "text/plain": [
       "TGeomPointSeq([010100000000000000000024400000000000002440@2019-09-08 00:00:00+02, 010100000000000000000034400000000000003440@2019-09-09 00:00:00+02, 010100000000000000000034400000000000003440@2019-09-10 00:00:00+02])"
      ]
     },
     "execution_count": 3,
     "metadata": {},
     "output_type": "execute_result"
    }
   ],
   "source": [
    "TGeomPointSeq('[Point(10 10)@2019-09-08, Point(20 20)@2019-09-09, Point(20 20)@2019-09-10]')"
   ]
  },
  {
   "cell_type": "code",
   "execution_count": 4,
   "id": "193c7ce4",
   "metadata": {},
   "outputs": [
    {
     "data": {
      "text/plain": [
       "TGeomPointSeq(Interp=Stepwise;[010100000000000000000024400000000000002440@2019-09-08 00:00:00+02, 010100000000000000000034400000000000003440@2019-09-09 00:00:00+02, 010100000000000000000034400000000000003440@2019-09-10 00:00:00+02])"
      ]
     },
     "execution_count": 4,
     "metadata": {},
     "output_type": "execute_result"
    }
   ],
   "source": [
    "TGeomPointSeq('Interp=Stepwise;[Point(10 10)@2019-09-08, Point(20 20)@2019-09-09, Point(20 20)@2019-09-10]') # With interpolation"
   ]
  },
  {
   "cell_type": "code",
   "execution_count": 5,
   "id": "865b5eb6",
   "metadata": {},
   "outputs": [
    {
     "data": {
      "text/plain": [
       "TGeogPointSeqSet({[0101000020E610000000000000000024400000000000002440@2019-09-08 00:00:00+02, 0101000020E610000000000000000034400000000000003440@2019-09-09 00:00:00+02, 0101000020E61000000000000000003E400000000000003E40@2019-09-10 00:00:00+02], [0101000020E610000000000000000044400000000000004440@2019-09-12 00:00:00+02, 0101000020E610000000000000000049400000000000004940@2019-09-13 00:00:00+02, 0101000020E61000000000000000004E400000000000004E40@2019-09-14 00:00:00+02]})"
      ]
     },
     "execution_count": 5,
     "metadata": {},
     "output_type": "execute_result"
    }
   ],
   "source": [
    "TGeogPointSeqSet('{'\n",
    "                 '[Point(10 10)@2019-09-08, Point(20 20)@2019-09-09, Point(30 30)@2019-09-10], '\n",
    "                 '[Point(40 40)@2019-09-12, Point(50 50)@2019-09-13, Point(60 60)@2019-09-14]'\n",
    "                 '}')"
   ]
  },
  {
   "cell_type": "markdown",
   "id": "62dceed4",
   "metadata": {},
   "source": [
    "### From values"
   ]
  },
  {
   "cell_type": "code",
   "execution_count": 6,
   "id": "0b952291",
   "metadata": {},
   "outputs": [
    {
     "data": {
      "text/plain": [
       "TBoolInst(t@2022-10-01 00:00:00+02)"
      ]
     },
     "execution_count": 6,
     "metadata": {},
     "output_type": "execute_result"
    }
   ],
   "source": [
    "TBoolInst(value=True, timestamp=datetime(year=2022, month=10, day=1))"
   ]
  },
  {
   "cell_type": "code",
   "execution_count": 7,
   "id": "c759059a",
   "metadata": {},
   "outputs": [
    {
     "data": {
      "text/plain": [
       "TBoolInst(t@2022-10-01 00:00:00+02)"
      ]
     },
     "execution_count": 7,
     "metadata": {},
     "output_type": "execute_result"
    }
   ],
   "source": [
    "TBoolInst(value='t', timestamp='2022-10-1')"
   ]
  },
  {
   "cell_type": "code",
   "execution_count": 8,
   "id": "a60ec51f",
   "metadata": {},
   "outputs": [
    {
     "data": {
      "text/plain": [
       "TGeomPointSeq([010100000000000000000024400000000000002440@2019-09-08 00:00:00+02, 01010000000000000000003E400000000000003E40@2019-09-10 00:00:00+02))"
      ]
     },
     "execution_count": 8,
     "metadata": {},
     "output_type": "execute_result"
    }
   ],
   "source": [
    "instants = [\n",
    "    TGeomPointInst(point='Point(10 10)', timestamp='2019-09-08'),\n",
    "    TGeomPointInst(point='Point(20 20)', timestamp='2019-09-09'),\n",
    "    TGeomPointInst(point='Point(30 30)', timestamp='2019-09-10'),    \n",
    "]\n",
    "TGeomPointSeq(instant_list=instants)"
   ]
  },
  {
   "cell_type": "code",
   "execution_count": 9,
   "id": "21d52be3",
   "metadata": {},
   "outputs": [
    {
     "data": {
      "text/plain": [
       "TGeomPointSeq((010100000000000000000024400000000000002440@2019-09-08 00:00:00+02, 010100000000000000000034400000000000003440@2019-09-09 00:00:00+02, 01010000000000000000003E400000000000003E40@2019-09-10 00:00:00+02])"
      ]
     },
     "execution_count": 9,
     "metadata": {},
     "output_type": "execute_result"
    }
   ],
   "source": [
    "TGeomPointSeq(instant_list=instants, lower_inc=False, upper_inc=True, normalize=False)"
   ]
  },
  {
   "cell_type": "code",
   "execution_count": 10,
   "id": "04ac5962",
   "metadata": {},
   "outputs": [
    {
     "data": {
      "text/plain": [
       "TGeomPointSeq({010100000000000000000024400000000000002440@2019-09-08 00:00:00+02, 010100000000000000000034400000000000003440@2019-09-09 00:00:00+02, 01010000000000000000003E400000000000003E40@2019-09-10 00:00:00+02})"
      ]
     },
     "execution_count": 10,
     "metadata": {},
     "output_type": "execute_result"
    }
   ],
   "source": [
    "TGeomPointSeq(instant_list=instants, interpolation=TInterpolation.DISCRETE)"
   ]
  },
  {
   "cell_type": "markdown",
   "id": "eafcf388",
   "metadata": {},
   "source": [
    "### From Well-Known Binary (WKB Spec: https://libmeos.org/movingfeaturesformats/wkb/) "
   ]
  },
  {
   "cell_type": "code",
   "execution_count": 11,
   "id": "ea5086c2",
   "metadata": {},
   "outputs": [
    {
     "data": {
      "text/plain": [
       "TBoolInst(t@2022-10-01 00:00:00+02)"
      ]
     },
     "execution_count": 11,
     "metadata": {},
     "output_type": "execute_result"
    }
   ],
   "source": [
    "Temporal.from_hexwkb('010D000101009847E2EA8C0200')"
   ]
  },
  {
   "cell_type": "code",
   "execution_count": 12,
   "id": "288c862a",
   "metadata": {},
   "outputs": [
    {
     "data": {
      "text/plain": [
       "TGeomPointSeq(Interp=Stepwise;[010100000000000000000024400000000000002440@2019-09-08 00:00:00+02, 010100000000000000000034400000000000003440@2019-09-09 00:00:00+02, 010100000000000000000034400000000000003440@2019-09-10 00:00:00+02])"
      ]
     },
     "execution_count": 12,
     "metadata": {},
     "output_type": "execute_result"
    }
   ],
   "source": [
    "hex_value='011A000A03000000030000000000002440000000000000244000F8DA71FC340200000000000000344000000000000034400058B28F103502000000000000003440000000000000344000B889AD24350200'\n",
    "Temporal.from_hexwkb(hex_value)"
   ]
  },
  {
   "cell_type": "markdown",
   "id": "3a72a359",
   "metadata": {},
   "source": [
    "### From Moving Features JSON (MF-JSon Spec: https://docs.opengeospatial.org/is/19-045r3/19-045r3.html)"
   ]
  },
  {
   "cell_type": "code",
   "execution_count": 13,
   "id": "07302122",
   "metadata": {},
   "outputs": [
    {
     "data": {
      "text/plain": [
       "TBoolInst(t@2022-10-01 00:00:00+02)"
      ]
     },
     "execution_count": 13,
     "metadata": {},
     "output_type": "execute_result"
    }
   ],
   "source": [
    "mf_json = '''{\n",
    "   \"type\": \"MovingBoolean\",\n",
    "   \"stBoundedBy\": {\n",
    "     \"period\": {\n",
    "       \"begin\": \"2022-10-01T00:00:00+02\",\n",
    "       \"end\": \"2022-10-01T00:00:00+02\",\n",
    "       \"lower_inc\": true,\n",
    "       \"upper_inc\": true\n",
    "     }\n",
    "   },\n",
    "   \"values\": true,\n",
    "   \"datetimes\": \"2022-10-01T00:00:00+02\",\n",
    "   \"interpolations\": [\n",
    "     \"Discrete\"\n",
    "   ]\n",
    " }'''\n",
    "Temporal.from_mfjson(mf_json)"
   ]
  },
  {
   "cell_type": "code",
   "execution_count": 14,
   "id": "2a58126c",
   "metadata": {},
   "outputs": [
    {
     "data": {
      "text/plain": [
       "TGeomPointSeq(Interp=Stepwise;[010100000000000000000024400000000000002440@2019-09-08 00:00:00+02, 010100000000000000000034400000000000003440@2019-09-09 00:00:00+02, 010100000000000000000034400000000000003440@2019-09-10 00:00:00+02])"
      ]
     },
     "execution_count": 14,
     "metadata": {},
     "output_type": "execute_result"
    }
   ],
   "source": [
    "mf_json = '''{\n",
    "   \"type\": \"MovingGeomPoint\",\n",
    "   \"stBoundedBy\": {\n",
    "     \"bbox\": [\n",
    "       [10,10],\n",
    "       [20,20]\n",
    "     ],\n",
    "     \"period\": {\n",
    "       \"begin\": \"2019-09-08T00:00:00+02\",\n",
    "       \"end\": \"2019-09-10T00:00:00+02\"\n",
    "     }\n",
    "   },\n",
    "   \"coordinates\": [\n",
    "     [10,10],\n",
    "     [20,20],\n",
    "     [20,20]\n",
    "   ],\n",
    "   \"datetimes\": [\n",
    "     \"2019-09-08T00:00:00+02\",\n",
    "     \"2019-09-09T00:00:00+02\",\n",
    "     \"2019-09-10T00:00:00+02\"\n",
    "   ],\n",
    "   \"lower_inc\": true,\n",
    "   \"upper_inc\": true,\n",
    "   \"interpolations\": [\n",
    "     \"Stepwise\"\n",
    "   ]\n",
    " }'''\n",
    "Temporal.from_mfjson(mf_json)"
   ]
  },
  {
   "cell_type": "markdown",
   "id": "ba0d37fc",
   "metadata": {},
   "source": [
    "## Output"
   ]
  },
  {
   "cell_type": "markdown",
   "id": "1db3243a",
   "metadata": {},
   "source": [
    "### To Well-Know Text (WKT Spec: https://libmeos.org/movingfeaturesformats/wkt/)"
   ]
  },
  {
   "cell_type": "code",
   "execution_count": 15,
   "id": "009182f2",
   "metadata": {},
   "outputs": [
    {
     "data": {
      "text/plain": [
       "'0.12346@2022-10-01 00:00:00+02'"
      ]
     },
     "execution_count": 15,
     "metadata": {},
     "output_type": "execute_result"
    }
   ],
   "source": [
    "value = TFloatInst('0.123456789@2022-10-01')\n",
    "str(value)"
   ]
  },
  {
   "cell_type": "code",
   "execution_count": 16,
   "id": "c03a1325",
   "metadata": {},
   "outputs": [
    {
     "data": {
      "text/plain": [
       "'0.123456789@2022-10-01 00:00:00+02'"
      ]
     },
     "execution_count": 16,
     "metadata": {},
     "output_type": "execute_result"
    }
   ],
   "source": [
    "value.as_wkt(precision=10)"
   ]
  },
  {
   "cell_type": "markdown",
   "id": "2e87ce58",
   "metadata": {},
   "source": [
    "### To Well-Known Binary (WKB Spec: https://libmeos.org/movingfeaturesformats/wkb/) "
   ]
  },
  {
   "cell_type": "code",
   "execution_count": 17,
   "id": "c7fbbc55",
   "metadata": {},
   "outputs": [
    {
     "data": {
      "text/plain": [
       "'011300015F633937DD9ABF3F009847E2EA8C0200'"
      ]
     },
     "execution_count": 17,
     "metadata": {},
     "output_type": "execute_result"
    }
   ],
   "source": [
    "value.as_hexwkb()"
   ]
  },
  {
   "cell_type": "markdown",
   "id": "728472d3",
   "metadata": {},
   "source": [
    "### To Moving Features JSON (MF-JSon Spec: https://docs.opengeospatial.org/is/19-045r3/19-045r3.html)"
   ]
  },
  {
   "cell_type": "code",
   "execution_count": 18,
   "id": "27158965",
   "metadata": {},
   "outputs": [
    {
     "name": "stdout",
     "output_type": "stream",
     "text": [
      "{\n",
      "   \"type\": \"MovingFloat\",\n",
      "   \"stBoundedBy\": {\n",
      "     \"bbox\": [\n",
      "       0.123457,\n",
      "       0.123457\n",
      "     ],\n",
      "     \"period\": {\n",
      "       \"begin\": \"2022-10-01T00:00:00+02\",\n",
      "       \"end\": \"2022-10-01T00:00:00+02\"\n",
      "     }\n",
      "   },\n",
      "   \"values\": 0.123457,\n",
      "   \"datetimes\": \"2022-10-01T00:00:00+02\",\n",
      "   \"interpolations\": [\n",
      "     \"Discrete\"\n",
      "   ]\n",
      " }\n"
     ]
    }
   ],
   "source": [
    "print(value.as_mfjson())"
   ]
  },
  {
   "cell_type": "code",
   "execution_count": 19,
   "id": "208d6e74",
   "metadata": {
    "scrolled": true
   },
   "outputs": [
    {
     "name": "stdout",
     "output_type": "stream",
     "text": [
      "{\n",
      "  \"type\":\"MovingFloat\",\n",
      "  \"stBoundedBy\":{\n",
      "    \"bbox\":[\n",
      "      0.123,\n",
      "      0.123\n",
      "    ],\n",
      "    \"period\":{\n",
      "      \"begin\":\"2022-10-01T00:00:00+02\",\n",
      "      \"end\":\"2022-10-01T00:00:00+02\"\n",
      "    }\n",
      "  },\n",
      "  \"values\":0.123,\n",
      "  \"datetimes\":\"2022-10-01T00:00:00+02\",\n",
      "  \"interpolations\":[\n",
      "    \"Discrete\"\n",
      "  ]\n",
      "}\n"
     ]
    }
   ],
   "source": [
    "print(value.as_mfjson(flags=6, precision=3))"
   ]
  },
  {
   "cell_type": "markdown",
   "id": "e897bba6",
   "metadata": {},
   "source": [
    "### To GeoJSON (only for TPoint, GeoJSON spec: https://geojson.org/)"
   ]
  },
  {
   "cell_type": "code",
   "execution_count": 20,
   "id": "85db1509",
   "metadata": {},
   "outputs": [
    {
     "name": "stdout",
     "output_type": "stream",
     "text": [
      "{\"type\":\"LineString\",\"bbox\":[10.000000,10.000000,20.000000,20.000000],\"coordinates\":[[10,10],[20,20]]}\n"
     ]
    }
   ],
   "source": [
    "value = TGeomPointSeq('[Point(10 10)@2019-09-08, Point(20 20)@2019-09-09, Point(20 20)@2019-09-10]')\n",
    "print(value.as_geojson())"
   ]
  },
  {
   "cell_type": "markdown",
   "id": "bf90e441",
   "metadata": {},
   "source": [
    "### To Shapely Geometry (Only for TPoint)"
   ]
  },
  {
   "cell_type": "code",
   "execution_count": 21,
   "id": "c6a4d88c",
   "metadata": {},
   "outputs": [
    {
     "name": "stdout",
     "output_type": "stream",
     "text": [
      "LINESTRING (10 10, 20 20)\n"
     ]
    },
    {
     "data": {
      "image/svg+xml": [
       "<svg xmlns=\"http://www.w3.org/2000/svg\" xmlns:xlink=\"http://www.w3.org/1999/xlink\" width=\"100.0\" height=\"100.0\" viewBox=\"9.6 9.6 10.799999999999999 10.799999999999999\" preserveAspectRatio=\"xMinYMin meet\"><g transform=\"matrix(1,0,0,-1,0,30.0)\"><polyline fill=\"none\" stroke=\"#66cc99\" stroke-width=\"0.21599999999999997\" points=\"10.0,10.0 20.0,20.0\" opacity=\"0.8\" /></g></svg>"
      ],
      "text/plain": [
       "<shapely.geometry.linestring.LineString at 0x7facb78aaaf0>"
      ]
     },
     "execution_count": 21,
     "metadata": {},
     "output_type": "execute_result"
    }
   ],
   "source": [
    "print(value.to_shapely_geometry())\n",
    "value.to_shapely_geometry()"
   ]
  },
  {
   "cell_type": "markdown",
   "id": "74ea3736",
   "metadata": {},
   "source": [
    "## Operations + Pandas integration"
   ]
  },
  {
   "cell_type": "code",
   "execution_count": 22,
   "id": "48ed79e2",
   "metadata": {},
   "outputs": [],
   "source": [
    "import pandas as pd\n",
    "from shapely.geometry import Polygon\n",
    "from shapely import wkb\n",
    "import postgis as pg\n",
    "import matplotlib.pyplot as plt"
   ]
  },
  {
   "cell_type": "code",
   "execution_count": 23,
   "id": "143ffedf",
   "metadata": {},
   "outputs": [
    {
     "data": {
      "text/html": [
       "<div>\n",
       "<style scoped>\n",
       "    .dataframe tbody tr th:only-of-type {\n",
       "        vertical-align: middle;\n",
       "    }\n",
       "\n",
       "    .dataframe tbody tr th {\n",
       "        vertical-align: top;\n",
       "    }\n",
       "\n",
       "    .dataframe thead th {\n",
       "        text-align: right;\n",
       "    }\n",
       "</style>\n",
       "<table border=\"1\" class=\"dataframe\">\n",
       "  <thead>\n",
       "    <tr style=\"text-align: right;\">\n",
       "      <th></th>\n",
       "      <th>vehicle</th>\n",
       "      <th>day</th>\n",
       "      <th>seq</th>\n",
       "      <th>trip</th>\n",
       "    </tr>\n",
       "  </thead>\n",
       "  <tbody>\n",
       "    <tr>\n",
       "      <th>0</th>\n",
       "      <td>1</td>\n",
       "      <td>2020-06-01</td>\n",
       "      <td>1</td>\n",
       "      <td>[0101000000A5218194E3211E41EB9B43431A1A5941@20...</td>\n",
       "    </tr>\n",
       "    <tr>\n",
       "      <th>1</th>\n",
       "      <td>1</td>\n",
       "      <td>2020-06-01</td>\n",
       "      <td>2</td>\n",
       "      <td>[010100000036A6A116E0F51D410818EC5287315941@20...</td>\n",
       "    </tr>\n",
       "    <tr>\n",
       "      <th>2</th>\n",
       "      <td>1</td>\n",
       "      <td>2020-06-02</td>\n",
       "      <td>1</td>\n",
       "      <td>[0101000000A5218194E3211E41EB9B43431A1A5941@20...</td>\n",
       "    </tr>\n",
       "    <tr>\n",
       "      <th>3</th>\n",
       "      <td>1</td>\n",
       "      <td>2020-06-02</td>\n",
       "      <td>2</td>\n",
       "      <td>[010100000036A6A116E0F51D410818EC5287315941@20...</td>\n",
       "    </tr>\n",
       "    <tr>\n",
       "      <th>4</th>\n",
       "      <td>1</td>\n",
       "      <td>2020-06-03</td>\n",
       "      <td>1</td>\n",
       "      <td>[0101000000A5218194E3211E41EB9B43431A1A5941@20...</td>\n",
       "    </tr>\n",
       "  </tbody>\n",
       "</table>\n",
       "</div>"
      ],
      "text/plain": [
       "   vehicle         day  seq                                               trip\n",
       "0        1  2020-06-01    1  [0101000000A5218194E3211E41EB9B43431A1A5941@20...\n",
       "1        1  2020-06-01    2  [010100000036A6A116E0F51D410818EC5287315941@20...\n",
       "2        1  2020-06-02    1  [0101000000A5218194E3211E41EB9B43431A1A5941@20...\n",
       "3        1  2020-06-02    2  [010100000036A6A116E0F51D410818EC5287315941@20...\n",
       "4        1  2020-06-03    1  [0101000000A5218194E3211E41EB9B43431A1A5941@20..."
      ]
     },
     "execution_count": 23,
     "metadata": {},
     "output_type": "execute_result"
    }
   ],
   "source": [
    "trips = pd.read_csv('./trips.csv', converters={'trip': Temporal.from_hexwkb})\n",
    "trips.head()"
   ]
  },
  {
   "cell_type": "code",
   "execution_count": 24,
   "id": "024f11b3",
   "metadata": {},
   "outputs": [],
   "source": [
    "trips['trajectory'] = trips['trip'].apply(lambda trip: trip.to_shapely_geometry())\n",
    "day_trips = trips[trips['day'] == '2020-06-01'].copy()"
   ]
  },
  {
   "cell_type": "code",
   "execution_count": 25,
   "id": "c7263200",
   "metadata": {},
   "outputs": [
    {
     "data": {
      "text/html": [
       "<div>\n",
       "<style scoped>\n",
       "    .dataframe tbody tr th:only-of-type {\n",
       "        vertical-align: middle;\n",
       "    }\n",
       "\n",
       "    .dataframe tbody tr th {\n",
       "        vertical-align: top;\n",
       "    }\n",
       "\n",
       "    .dataframe thead th {\n",
       "        text-align: right;\n",
       "    }\n",
       "</style>\n",
       "<table border=\"1\" class=\"dataframe\">\n",
       "  <thead>\n",
       "    <tr style=\"text-align: right;\">\n",
       "      <th></th>\n",
       "      <th>vehicle</th>\n",
       "      <th>day</th>\n",
       "      <th>seq</th>\n",
       "      <th>trip</th>\n",
       "      <th>trajectory</th>\n",
       "    </tr>\n",
       "  </thead>\n",
       "  <tbody>\n",
       "    <tr>\n",
       "      <th>0</th>\n",
       "      <td>1</td>\n",
       "      <td>2020-06-01</td>\n",
       "      <td>1</td>\n",
       "      <td>[0101000000A5218194E3211E41EB9B43431A1A5941@20...</td>\n",
       "      <td>LINESTRING (493688.895024 6580329.051002, 4936...</td>\n",
       "    </tr>\n",
       "    <tr>\n",
       "      <th>1</th>\n",
       "      <td>1</td>\n",
       "      <td>2020-06-01</td>\n",
       "      <td>2</td>\n",
       "      <td>[010100000036A6A116E0F51D410818EC5287315941@20...</td>\n",
       "      <td>LINESTRING (490872.022101 6604317.29566, 49087...</td>\n",
       "    </tr>\n",
       "    <tr>\n",
       "      <th>8</th>\n",
       "      <td>2</td>\n",
       "      <td>2020-06-01</td>\n",
       "      <td>1</td>\n",
       "      <td>[0101000000F2CC1014306F1D4113BAF7554A1A5941@20...</td>\n",
       "      <td>LINESTRING (482252.019595 6580521.343245, 4822...</td>\n",
       "    </tr>\n",
       "    <tr>\n",
       "      <th>9</th>\n",
       "      <td>2</td>\n",
       "      <td>2020-06-01</td>\n",
       "      <td>2</td>\n",
       "      <td>[0101000000BBB9695FBC111E419BDF99EFA41D5941@20...</td>\n",
       "      <td>LINESTRING (492655.093177 6583955.743767, 4926...</td>\n",
       "    </tr>\n",
       "    <tr>\n",
       "      <th>16</th>\n",
       "      <td>3</td>\n",
       "      <td>2020-06-01</td>\n",
       "      <td>1</td>\n",
       "      <td>[0101000000217D2E419B471E41A4DF478994285941@20...</td>\n",
       "      <td>LINESTRING (496102.813654 6595154.145012, 4961...</td>\n",
       "    </tr>\n",
       "  </tbody>\n",
       "</table>\n",
       "</div>"
      ],
      "text/plain": [
       "    vehicle         day  seq  \\\n",
       "0         1  2020-06-01    1   \n",
       "1         1  2020-06-01    2   \n",
       "8         2  2020-06-01    1   \n",
       "9         2  2020-06-01    2   \n",
       "16        3  2020-06-01    1   \n",
       "\n",
       "                                                 trip  \\\n",
       "0   [0101000000A5218194E3211E41EB9B43431A1A5941@20...   \n",
       "1   [010100000036A6A116E0F51D410818EC5287315941@20...   \n",
       "8   [0101000000F2CC1014306F1D4113BAF7554A1A5941@20...   \n",
       "9   [0101000000BBB9695FBC111E419BDF99EFA41D5941@20...   \n",
       "16  [0101000000217D2E419B471E41A4DF478994285941@20...   \n",
       "\n",
       "                                           trajectory  \n",
       "0   LINESTRING (493688.895024 6580329.051002, 4936...  \n",
       "1   LINESTRING (490872.022101 6604317.29566, 49087...  \n",
       "8   LINESTRING (482252.019595 6580521.343245, 4822...  \n",
       "9   LINESTRING (492655.093177 6583955.743767, 4926...  \n",
       "16  LINESTRING (496102.813654 6595154.145012, 4961...  "
      ]
     },
     "execution_count": 25,
     "metadata": {},
     "output_type": "execute_result"
    }
   ],
   "source": [
    "day_trips.head()"
   ]
  },
  {
   "cell_type": "code",
   "execution_count": 26,
   "id": "070d4453",
   "metadata": {
    "scrolled": true
   },
   "outputs": [
    {
     "data": {
      "image/png": "[encoded data removed]",
      "text/plain": [
       "<Figure size 640x480 with 1 Axes>"
      ]
     },
     "metadata": {},
     "output_type": "display_data"
    }
   ],
   "source": [
    "fig, ax = plt.subplots()\n",
    "for trip in day_trips['trajectory']:\n",
    "    ax.plot(*trip.xy)"
   ]
  },
  {
   "cell_type": "markdown",
   "id": "e8614c57",
   "metadata": {},
   "source": [
    "### Spatial Intersection"
   ]
  },
  {
   "cell_type": "code",
   "execution_count": 27,
   "id": "61186d02",
   "metadata": {},
   "outputs": [
    {
     "data": {
      "text/plain": [
       "[<matplotlib.lines.Line2D at 0x7facb37cc1f0>]"
      ]
     },
     "execution_count": 27,
     "metadata": {},
     "output_type": "execute_result"
    },
    {
     "data": {
      "image/png": "[encoded data removed]",
      "text/plain": [
       "<Figure size 640x480 with 1 Axes>"
      ]
     },
     "metadata": {},
     "output_type": "display_data"
    }
   ],
   "source": [
    "polygon = Polygon([(482500, 6605000), (490000, 6605000), (490000, 6580000), (482500, 6580000)])\n",
    "fig, ax = plt.subplots()\n",
    "for trip in day_trips['trajectory']:\n",
    "    ax.plot(*trip.xy)\n",
    "ax.plot(*polygon.exterior.xy)"
   ]
  },
  {
   "cell_type": "code",
   "execution_count": 28,
   "id": "253273ba",
   "metadata": {},
   "outputs": [
    {
     "data": {
      "text/html": [
       "<div>\n",
       "<style scoped>\n",
       "    .dataframe tbody tr th:only-of-type {\n",
       "        vertical-align: middle;\n",
       "    }\n",
       "\n",
       "    .dataframe tbody tr th {\n",
       "        vertical-align: top;\n",
       "    }\n",
       "\n",
       "    .dataframe thead th {\n",
       "        text-align: right;\n",
       "    }\n",
       "</style>\n",
       "<table border=\"1\" class=\"dataframe\">\n",
       "  <thead>\n",
       "    <tr style=\"text-align: right;\">\n",
       "      <th></th>\n",
       "      <th>vehicle</th>\n",
       "      <th>day</th>\n",
       "      <th>seq</th>\n",
       "      <th>trip</th>\n",
       "      <th>trajectory</th>\n",
       "      <th>spatial_cut</th>\n",
       "      <th>spatial_cut_trajectory</th>\n",
       "    </tr>\n",
       "  </thead>\n",
       "  <tbody>\n",
       "    <tr>\n",
       "      <th>0</th>\n",
       "      <td>1</td>\n",
       "      <td>2020-06-01</td>\n",
       "      <td>1</td>\n",
       "      <td>[0101000000A5218194E3211E41EB9B43431A1A5941@20...</td>\n",
       "      <td>LINESTRING (493688.895024 6580329.051002, 4936...</td>\n",
       "      <td>None</td>\n",
       "      <td>None</td>\n",
       "    </tr>\n",
       "    <tr>\n",
       "      <th>1</th>\n",
       "      <td>1</td>\n",
       "      <td>2020-06-01</td>\n",
       "      <td>2</td>\n",
       "      <td>[010100000036A6A116E0F51D410818EC5287315941@20...</td>\n",
       "      <td>LINESTRING (490872.022101 6604317.29566, 49087...</td>\n",
       "      <td>None</td>\n",
       "      <td>None</td>\n",
       "    </tr>\n",
       "    <tr>\n",
       "      <th>8</th>\n",
       "      <td>2</td>\n",
       "      <td>2020-06-01</td>\n",
       "      <td>1</td>\n",
       "      <td>[0101000000F2CC1014306F1D4113BAF7554A1A5941@20...</td>\n",
       "      <td>LINESTRING (482252.019595 6580521.343245, 4822...</td>\n",
       "      <td>{[010100000044ACFDFF0F731D4115CACF84241B5941@2...</td>\n",
       "      <td>LINESTRING (482499.999991 6581394.075182, 4825...</td>\n",
       "    </tr>\n",
       "    <tr>\n",
       "      <th>9</th>\n",
       "      <td>2</td>\n",
       "      <td>2020-06-01</td>\n",
       "      <td>2</td>\n",
       "      <td>[0101000000BBB9695FBC111E419BDF99EFA41D5941@20...</td>\n",
       "      <td>LINESTRING (492655.093177 6583955.743767, 4926...</td>\n",
       "      <td>{[01010000001FAC010040E81D418A4F8A46FC1E5941@2...</td>\n",
       "      <td>LINESTRING (490000.000006 6585329.102192, 4899...</td>\n",
       "    </tr>\n",
       "    <tr>\n",
       "      <th>16</th>\n",
       "      <td>3</td>\n",
       "      <td>2020-06-01</td>\n",
       "      <td>1</td>\n",
       "      <td>[0101000000217D2E419B471E41A4DF478994285941@20...</td>\n",
       "      <td>LINESTRING (496102.813654 6595154.145012, 4961...</td>\n",
       "      <td>{[01010000008313010040E81D41E3F33E984B265941@2...</td>\n",
       "      <td>LINESTRING (490000.000004 6592814.378842, 4899...</td>\n",
       "    </tr>\n",
       "  </tbody>\n",
       "</table>\n",
       "</div>"
      ],
      "text/plain": [
       "    vehicle         day  seq  \\\n",
       "0         1  2020-06-01    1   \n",
       "1         1  2020-06-01    2   \n",
       "8         2  2020-06-01    1   \n",
       "9         2  2020-06-01    2   \n",
       "16        3  2020-06-01    1   \n",
       "\n",
       "                                                 trip  \\\n",
       "0   [0101000000A5218194E3211E41EB9B43431A1A5941@20...   \n",
       "1   [010100000036A6A116E0F51D410818EC5287315941@20...   \n",
       "8   [0101000000F2CC1014306F1D4113BAF7554A1A5941@20...   \n",
       "9   [0101000000BBB9695FBC111E419BDF99EFA41D5941@20...   \n",
       "16  [0101000000217D2E419B471E41A4DF478994285941@20...   \n",
       "\n",
       "                                           trajectory  \\\n",
       "0   LINESTRING (493688.895024 6580329.051002, 4936...   \n",
       "1   LINESTRING (490872.022101 6604317.29566, 49087...   \n",
       "8   LINESTRING (482252.019595 6580521.343245, 4822...   \n",
       "9   LINESTRING (492655.093177 6583955.743767, 4926...   \n",
       "16  LINESTRING (496102.813654 6595154.145012, 4961...   \n",
       "\n",
       "                                          spatial_cut  \\\n",
       "0                                                None   \n",
       "1                                                None   \n",
       "8   {[010100000044ACFDFF0F731D4115CACF84241B5941@2...   \n",
       "9   {[01010000001FAC010040E81D418A4F8A46FC1E5941@2...   \n",
       "16  {[01010000008313010040E81D41E3F33E984B265941@2...   \n",
       "\n",
       "                               spatial_cut_trajectory  \n",
       "0                                                None  \n",
       "1                                                None  \n",
       "8   LINESTRING (482499.999991 6581394.075182, 4825...  \n",
       "9   LINESTRING (490000.000006 6585329.102192, 4899...  \n",
       "16  LINESTRING (490000.000004 6592814.378842, 4899...  "
      ]
     },
     "execution_count": 28,
     "metadata": {},
     "output_type": "execute_result"
    }
   ],
   "source": [
    "postgis_polygon = pg.Geometry.from_ewkb(polygon.wkb_hex)\n",
    "day_trips['spatial_cut'] = day_trips['trip'].apply(lambda trip: trip.at(postgis_polygon))\n",
    "day_trips['spatial_cut_trajectory'] = day_trips['spatial_cut'].apply(lambda trip: trip.to_shapely_geometry() if trip else None)\n",
    "day_trips.head()"
   ]
  },
  {
   "cell_type": "code",
   "execution_count": 29,
   "id": "4df6144d",
   "metadata": {
    "scrolled": true
   },
   "outputs": [
    {
     "data": {
      "text/plain": [
       "[471915.82342415,\n",
       " 500449.53141485,\n",
       " 6577319.2787442,\n",
       " 6608586.762965799,\n",
       " 471915.82342415,\n",
       " 500449.53141485,\n",
       " 6577319.2787442,\n",
       " 6608586.762965799]"
      ]
     },
     "execution_count": 29,
     "metadata": {},
     "output_type": "execute_result"
    },
    {
     "data": {
      "image/png": "[encoded data removed]",
      "text/plain": [
       "<Figure size 640x480 with 2 Axes>"
      ]
     },
     "metadata": {},
     "output_type": "display_data"
    }
   ],
   "source": [
    "fig, ax = plt.subplots(2)\n",
    "for trip in day_trips['trajectory']:\n",
    "    ax[0].plot(*trip.xy)\n",
    "ax[0].plot(*polygon.exterior.xy)\n",
    "for trip in day_trips['spatial_cut_trajectory']:\n",
    "    if trip:\n",
    "        ax[1].plot(*trip.xy)\n",
    "plt.setp(ax, xlim=ax[0].get_xlim(), ylim=ax[0].get_ylim())"
   ]
  },
  {
   "cell_type": "markdown",
   "id": "22f30aef",
   "metadata": {},
   "source": [
    "### Temporal Intersection"
   ]
  },
  {
   "cell_type": "code",
   "execution_count": 30,
   "id": "aba54dcb",
   "metadata": {},
   "outputs": [
    {
     "data": {
      "text/html": [
       "<div>\n",
       "<style scoped>\n",
       "    .dataframe tbody tr th:only-of-type {\n",
       "        vertical-align: middle;\n",
       "    }\n",
       "\n",
       "    .dataframe tbody tr th {\n",
       "        vertical-align: top;\n",
       "    }\n",
       "\n",
       "    .dataframe thead th {\n",
       "        text-align: right;\n",
       "    }\n",
       "</style>\n",
       "<table border=\"1\" class=\"dataframe\">\n",
       "  <thead>\n",
       "    <tr style=\"text-align: right;\">\n",
       "      <th></th>\n",
       "      <th>vehicle</th>\n",
       "      <th>day</th>\n",
       "      <th>seq</th>\n",
       "      <th>trip</th>\n",
       "      <th>trajectory</th>\n",
       "      <th>spatial_cut</th>\n",
       "      <th>spatial_cut_trajectory</th>\n",
       "      <th>temporal_cut</th>\n",
       "      <th>temporal_cut_trajectory</th>\n",
       "    </tr>\n",
       "  </thead>\n",
       "  <tbody>\n",
       "    <tr>\n",
       "      <th>0</th>\n",
       "      <td>1</td>\n",
       "      <td>2020-06-01</td>\n",
       "      <td>1</td>\n",
       "      <td>[0101000000A5218194E3211E41EB9B43431A1A5941@20...</td>\n",
       "      <td>LINESTRING (493688.895024 6580329.051002, 4936...</td>\n",
       "      <td>None</td>\n",
       "      <td>None</td>\n",
       "      <td>(01010000001E41076E8B4A1E41B6FB6355001E5941@20...</td>\n",
       "      <td>LINESTRING (496290.85745 6584321.334227, 49633...</td>\n",
       "    </tr>\n",
       "    <tr>\n",
       "      <th>1</th>\n",
       "      <td>1</td>\n",
       "      <td>2020-06-01</td>\n",
       "      <td>2</td>\n",
       "      <td>[010100000036A6A116E0F51D410818EC5287315941@20...</td>\n",
       "      <td>LINESTRING (490872.022101 6604317.29566, 49087...</td>\n",
       "      <td>None</td>\n",
       "      <td>None</td>\n",
       "      <td>None</td>\n",
       "      <td>None</td>\n",
       "    </tr>\n",
       "    <tr>\n",
       "      <th>8</th>\n",
       "      <td>2</td>\n",
       "      <td>2020-06-01</td>\n",
       "      <td>1</td>\n",
       "      <td>[0101000000F2CC1014306F1D4113BAF7554A1A5941@20...</td>\n",
       "      <td>LINESTRING (482252.019595 6580521.343245, 4822...</td>\n",
       "      <td>{[010100000044ACFDFF0F731D4115CACF84241B5941@2...</td>\n",
       "      <td>LINESTRING (482499.999991 6581394.075182, 4825...</td>\n",
       "      <td>(0101000000558824ABCC8E1D4119ABB6419F1B5941@20...</td>\n",
       "      <td>LINESTRING (484275.167132 6581885.026774, 4843...</td>\n",
       "    </tr>\n",
       "    <tr>\n",
       "      <th>9</th>\n",
       "      <td>2</td>\n",
       "      <td>2020-06-01</td>\n",
       "      <td>2</td>\n",
       "      <td>[0101000000BBB9695FBC111E419BDF99EFA41D5941@20...</td>\n",
       "      <td>LINESTRING (492655.093177 6583955.743767, 4926...</td>\n",
       "      <td>{[01010000001FAC010040E81D418A4F8A46FC1E5941@2...</td>\n",
       "      <td>LINESTRING (490000.000006 6585329.102192, 4899...</td>\n",
       "      <td>None</td>\n",
       "      <td>None</td>\n",
       "    </tr>\n",
       "    <tr>\n",
       "      <th>16</th>\n",
       "      <td>3</td>\n",
       "      <td>2020-06-01</td>\n",
       "      <td>1</td>\n",
       "      <td>[0101000000217D2E419B471E41A4DF478994285941@20...</td>\n",
       "      <td>LINESTRING (496102.813654 6595154.145012, 4961...</td>\n",
       "      <td>{[01010000008313010040E81D41E3F33E984B265941@2...</td>\n",
       "      <td>LINESTRING (490000.000004 6592814.378842, 4899...</td>\n",
       "      <td>None</td>\n",
       "      <td>None</td>\n",
       "    </tr>\n",
       "  </tbody>\n",
       "</table>\n",
       "</div>"
      ],
      "text/plain": [
       "    vehicle         day  seq  \\\n",
       "0         1  2020-06-01    1   \n",
       "1         1  2020-06-01    2   \n",
       "8         2  2020-06-01    1   \n",
       "9         2  2020-06-01    2   \n",
       "16        3  2020-06-01    1   \n",
       "\n",
       "                                                 trip  \\\n",
       "0   [0101000000A5218194E3211E41EB9B43431A1A5941@20...   \n",
       "1   [010100000036A6A116E0F51D410818EC5287315941@20...   \n",
       "8   [0101000000F2CC1014306F1D4113BAF7554A1A5941@20...   \n",
       "9   [0101000000BBB9695FBC111E419BDF99EFA41D5941@20...   \n",
       "16  [0101000000217D2E419B471E41A4DF478994285941@20...   \n",
       "\n",
       "                                           trajectory  \\\n",
       "0   LINESTRING (493688.895024 6580329.051002, 4936...   \n",
       "1   LINESTRING (490872.022101 6604317.29566, 49087...   \n",
       "8   LINESTRING (482252.019595 6580521.343245, 4822...   \n",
       "9   LINESTRING (492655.093177 6583955.743767, 4926...   \n",
       "16  LINESTRING (496102.813654 6595154.145012, 4961...   \n",
       "\n",
       "                                          spatial_cut  \\\n",
       "0                                                None   \n",
       "1                                                None   \n",
       "8   {[010100000044ACFDFF0F731D4115CACF84241B5941@2...   \n",
       "9   {[01010000001FAC010040E81D418A4F8A46FC1E5941@2...   \n",
       "16  {[01010000008313010040E81D41E3F33E984B265941@2...   \n",
       "\n",
       "                               spatial_cut_trajectory  \\\n",
       "0                                                None   \n",
       "1                                                None   \n",
       "8   LINESTRING (482499.999991 6581394.075182, 4825...   \n",
       "9   LINESTRING (490000.000006 6585329.102192, 4899...   \n",
       "16  LINESTRING (490000.000004 6592814.378842, 4899...   \n",
       "\n",
       "                                         temporal_cut  \\\n",
       "0   (01010000001E41076E8B4A1E41B6FB6355001E5941@20...   \n",
       "1                                                None   \n",
       "8   (0101000000558824ABCC8E1D4119ABB6419F1B5941@20...   \n",
       "9                                                None   \n",
       "16                                               None   \n",
       "\n",
       "                              temporal_cut_trajectory  \n",
       "0   LINESTRING (496290.85745 6584321.334227, 49633...  \n",
       "1                                                None  \n",
       "8   LINESTRING (484275.167132 6581885.026774, 4843...  \n",
       "9                                                None  \n",
       "16                                               None  "
      ]
     },
     "execution_count": 30,
     "metadata": {},
     "output_type": "execute_result"
    }
   ],
   "source": [
    "period = Period('(2020-06-01 09:40:00+02, 2020-06-01 10:06:00+02)')\n",
    "day_trips['temporal_cut'] = day_trips['trip'].apply(lambda trip: trip.at(period))\n",
    "day_trips['temporal_cut_trajectory'] = day_trips['temporal_cut'].apply(lambda trip: trip.to_shapely_geometry() if trip else None)\n",
    "day_trips.head()"
   ]
  },
  {
   "cell_type": "code",
   "execution_count": 31,
   "id": "f3167c6c",
   "metadata": {},
   "outputs": [
    {
     "data": {
      "text/plain": [
       "[471915.82342415,\n",
       " 500449.53141485,\n",
       " 6577319.2787442,\n",
       " 6608586.762965799,\n",
       " 471915.82342415,\n",
       " 500449.53141485,\n",
       " 6577319.2787442,\n",
       " 6608586.762965799]"
      ]
     },
     "execution_count": 31,
     "metadata": {},
     "output_type": "execute_result"
    },
    {
     "data": {
      "image/png": "[encoded data removed]",
      "text/plain": [
       "<Figure size 640x480 with 2 Axes>"
      ]
     },
     "metadata": {},
     "output_type": "display_data"
    }
   ],
   "source": [
    "fig, ax = plt.subplots(2)\n",
    "for trip in day_trips['trajectory']:\n",
    "    ax[0].plot(*trip.xy)\n",
    "for trip in day_trips['temporal_cut_trajectory']:\n",
    "    if trip:\n",
    "        ax[1].plot(*trip.xy)\n",
    "plt.setp(ax, xlim=ax[0].get_xlim(), ylim=ax[0].get_ylim())"
   ]
  },
  {
   "cell_type": "code",
   "execution_count": 32,
   "id": "174090f1",
   "metadata": {},
   "outputs": [],
   "source": [
    "pymeos_finalize()"
   ]
  }
 ],
 "metadata": {
  "kernelspec": {
   "display_name": "Python 3 (ipykernel)",
   "language": "python",
   "name": "python3"
  },
  "language_info": {
   "codemirror_mode": {
    "name": "ipython",
    "version": 3
   },
   "file_extension": ".py",
   "mimetype": "text/x-python",
   "name": "python",
   "nbconvert_exporter": "python",
   "pygments_lexer": "ipython3",
   "version": "3.8.10"
  },
  "vscode": {
   "interpreter": {
    "hash": "916dbcbb3f70747c44a77c7bcd40155683ae19c65e1c03b4aa3499c5328201f1"
   }
  }
 },
 "nbformat": 4,
 "nbformat_minor": 5
}
