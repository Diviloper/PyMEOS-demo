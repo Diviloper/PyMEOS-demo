{
 "cells": [
  {
   "cell_type": "markdown",
   "source": [
    "# PyMEOS Demo for ACM Demo"
   ],
   "metadata": {
    "collapsed": false
   },
   "id": "14fa2ce44d6141a7"
  },
  {
   "cell_type": "code",
   "execution_count": 2,
   "id": "initial_id",
   "metadata": {
    "collapsed": true,
    "ExecuteTime": {
     "end_time": "2023-08-18T19:39:14.902582100Z",
     "start_time": "2023-08-18T19:39:14.619794600Z"
    }
   },
   "outputs": [],
   "source": [
    "import pandas as pd\n",
    "import shapely as shp\n",
    "from pymeos import *\n",
    "from tqdm.auto import tqdm\n",
    "\n",
    "tqdm.pandas()"
   ]
  },
  {
   "cell_type": "code",
   "execution_count": 3,
   "outputs": [],
   "source": [
    "pymeos_initialize()"
   ],
   "metadata": {
    "collapsed": false,
    "ExecuteTime": {
     "end_time": "2023-08-18T19:39:15.002342400Z",
     "start_time": "2023-08-18T19:39:14.992345200Z"
    }
   },
   "id": "497c309fd34b390e"
  },
  {
   "cell_type": "markdown",
   "source": [
    "## Preprocessing"
   ],
   "metadata": {
    "collapsed": false
   },
   "id": "26cf8df33f74d34f"
  },
  {
   "cell_type": "code",
   "execution_count": 9,
   "outputs": [
    {
     "data": {
      "text/plain": "   ID  Trajectory ID   Timestamp  Latitude   Longitude      Speed  Bearing  \\\n0   0          70014  1554943236  1.342326  103.888969  18.910000      248   \n1   1          73573  1555582623  1.321781  103.856366  17.719076       44   \n2   2          75567  1555141026  1.327088  103.861273  14.021548       34   \n3   3           1410  1555731693  1.262482  103.823794  13.026521      181   \n4   4           4354  1555584497  1.283799  103.807210  14.812943       93   \n\n   Accuracy  \n0       3.9  \n1       4.0  \n2       3.9  \n3       4.0  \n4       3.9  ",
      "text/html": "<div>\n<style scoped>\n    .dataframe tbody tr th:only-of-type {\n        vertical-align: middle;\n    }\n\n    .dataframe tbody tr th {\n        vertical-align: top;\n    }\n\n    .dataframe thead th {\n        text-align: right;\n    }\n</style>\n<table border=\"1\" class=\"dataframe\">\n  <thead>\n    <tr style=\"text-align: right;\">\n      <th></th>\n      <th>ID</th>\n      <th>Trajectory ID</th>\n      <th>Timestamp</th>\n      <th>Latitude</th>\n      <th>Longitude</th>\n      <th>Speed</th>\n      <th>Bearing</th>\n      <th>Accuracy</th>\n    </tr>\n  </thead>\n  <tbody>\n    <tr>\n      <th>0</th>\n      <td>0</td>\n      <td>70014</td>\n      <td>1554943236</td>\n      <td>1.342326</td>\n      <td>103.888969</td>\n      <td>18.910000</td>\n      <td>248</td>\n      <td>3.9</td>\n    </tr>\n    <tr>\n      <th>1</th>\n      <td>1</td>\n      <td>73573</td>\n      <td>1555582623</td>\n      <td>1.321781</td>\n      <td>103.856366</td>\n      <td>17.719076</td>\n      <td>44</td>\n      <td>4.0</td>\n    </tr>\n    <tr>\n      <th>2</th>\n      <td>2</td>\n      <td>75567</td>\n      <td>1555141026</td>\n      <td>1.327088</td>\n      <td>103.861273</td>\n      <td>14.021548</td>\n      <td>34</td>\n      <td>3.9</td>\n    </tr>\n    <tr>\n      <th>3</th>\n      <td>3</td>\n      <td>1410</td>\n      <td>1555731693</td>\n      <td>1.262482</td>\n      <td>103.823794</td>\n      <td>13.026521</td>\n      <td>181</td>\n      <td>4.0</td>\n    </tr>\n    <tr>\n      <th>4</th>\n      <td>4</td>\n      <td>4354</td>\n      <td>1555584497</td>\n      <td>1.283799</td>\n      <td>103.807210</td>\n      <td>14.812943</td>\n      <td>93</td>\n      <td>3.9</td>\n    </tr>\n  </tbody>\n</table>\n</div>"
     },
     "execution_count": 9,
     "metadata": {},
     "output_type": "execute_result"
    }
   ],
   "source": [
    "raw = pd.read_csv('singapore_0.csv', header=0,\n",
    "                  names=['ID', 'Trajectory ID', 'Driving Mode', 'OS Name', 'Timestamp', 'Latitude', 'Longitude',\n",
    "                         'Speed', 'Bearing', 'Accuracy'],\n",
    "                  usecols=['ID', 'Trajectory ID', 'Timestamp', 'Latitude', 'Longitude', 'Speed', 'Bearing', 'Accuracy'])\n",
    "raw.head()"
   ],
   "metadata": {
    "collapsed": false,
    "ExecuteTime": {
     "end_time": "2023-08-18T18:22:51.480517600Z",
     "start_time": "2023-08-18T18:22:40.141887600Z"
    }
   },
   "id": "3e913a08b7f3e63e"
  },
  {
   "cell_type": "markdown",
   "source": [
    "We preprocess the row data so that:\n",
    "- Rows that have null values are deleted.\n",
    "- Timestamps are converted from millis since epoch to `datetime` objects.\n",
    "- A new column with Shapely Points is generated."
   ],
   "metadata": {
    "collapsed": false
   },
   "id": "e1fdf01c944fddba"
  },
  {
   "cell_type": "code",
   "execution_count": 10,
   "outputs": [
    {
     "data": {
      "text/plain": "0         2019-04-11 00:40:36\n1         2019-04-18 10:17:03\n2         2019-04-13 07:37:06\n3         2019-04-20 03:41:33\n4         2019-04-18 10:48:17\n                  ...        \n3034548   2019-04-11 08:27:17\n3034549   2019-04-14 13:25:52\n3034550   2019-04-21 00:15:14\n3034551   2019-04-19 14:58:11\n3034552   2019-04-09 23:28:51\nName: Timestamp, Length: 3034553, dtype: datetime64[ns]"
     },
     "execution_count": 10,
     "metadata": {},
     "output_type": "execute_result"
    }
   ],
   "source": [
    "pd.to_datetime(raw['Timestamp'], origin='unix', unit='s')"
   ],
   "metadata": {
    "collapsed": false,
    "ExecuteTime": {
     "end_time": "2023-08-18T18:22:52.913198900Z",
     "start_time": "2023-08-18T18:22:51.322341700Z"
    }
   },
   "id": "4dc6b96b365d313a"
  },
  {
   "cell_type": "code",
   "execution_count": 11,
   "outputs": [
    {
     "data": {
      "text/plain": "   ID  Trajectory ID           Timestamp  Latitude   Longitude      Speed  \\\n0   0          70014 2019-04-11 00:40:36  1.342326  103.888969  18.910000   \n1   1          73573 2019-04-18 10:17:03  1.321781  103.856366  17.719076   \n2   2          75567 2019-04-13 07:37:06  1.327088  103.861273  14.021548   \n3   3           1410 2019-04-20 03:41:33  1.262482  103.823794  13.026521   \n4   4           4354 2019-04-18 10:48:17  1.283799  103.807210  14.812943   \n\n   Bearing  Accuracy                       Location  \n0      248       3.9   POINT (103.888969 1.3423256)  \n1       44       4.0  POINT (103.8563664 1.3217811)  \n2       34       3.9  POINT (103.8612733 1.3270883)  \n3      181       4.0  POINT (103.8237941 1.2624821)  \n4       93       3.9   POINT (103.8072101 1.283799)  ",
      "text/html": "<div>\n<style scoped>\n    .dataframe tbody tr th:only-of-type {\n        vertical-align: middle;\n    }\n\n    .dataframe tbody tr th {\n        vertical-align: top;\n    }\n\n    .dataframe thead th {\n        text-align: right;\n    }\n</style>\n<table border=\"1\" class=\"dataframe\">\n  <thead>\n    <tr style=\"text-align: right;\">\n      <th></th>\n      <th>ID</th>\n      <th>Trajectory ID</th>\n      <th>Timestamp</th>\n      <th>Latitude</th>\n      <th>Longitude</th>\n      <th>Speed</th>\n      <th>Bearing</th>\n      <th>Accuracy</th>\n      <th>Location</th>\n    </tr>\n  </thead>\n  <tbody>\n    <tr>\n      <th>0</th>\n      <td>0</td>\n      <td>70014</td>\n      <td>2019-04-11 00:40:36</td>\n      <td>1.342326</td>\n      <td>103.888969</td>\n      <td>18.910000</td>\n      <td>248</td>\n      <td>3.9</td>\n      <td>POINT (103.888969 1.3423256)</td>\n    </tr>\n    <tr>\n      <th>1</th>\n      <td>1</td>\n      <td>73573</td>\n      <td>2019-04-18 10:17:03</td>\n      <td>1.321781</td>\n      <td>103.856366</td>\n      <td>17.719076</td>\n      <td>44</td>\n      <td>4.0</td>\n      <td>POINT (103.8563664 1.3217811)</td>\n    </tr>\n    <tr>\n      <th>2</th>\n      <td>2</td>\n      <td>75567</td>\n      <td>2019-04-13 07:37:06</td>\n      <td>1.327088</td>\n      <td>103.861273</td>\n      <td>14.021548</td>\n      <td>34</td>\n      <td>3.9</td>\n      <td>POINT (103.8612733 1.3270883)</td>\n    </tr>\n    <tr>\n      <th>3</th>\n      <td>3</td>\n      <td>1410</td>\n      <td>2019-04-20 03:41:33</td>\n      <td>1.262482</td>\n      <td>103.823794</td>\n      <td>13.026521</td>\n      <td>181</td>\n      <td>4.0</td>\n      <td>POINT (103.8237941 1.2624821)</td>\n    </tr>\n    <tr>\n      <th>4</th>\n      <td>4</td>\n      <td>4354</td>\n      <td>2019-04-18 10:48:17</td>\n      <td>1.283799</td>\n      <td>103.807210</td>\n      <td>14.812943</td>\n      <td>93</td>\n      <td>3.9</td>\n      <td>POINT (103.8072101 1.283799)</td>\n    </tr>\n  </tbody>\n</table>\n</div>"
     },
     "execution_count": 11,
     "metadata": {},
     "output_type": "execute_result"
    }
   ],
   "source": [
    "raw = raw.dropna()\n",
    "raw['Timestamp'] = pd.to_datetime(raw['Timestamp'], origin='unix', unit='s')\n",
    "raw['Location'] = shp.points(raw['Longitude'], raw['Latitude'])\n",
    "raw.head()"
   ],
   "metadata": {
    "collapsed": false,
    "ExecuteTime": {
     "end_time": "2023-08-18T18:23:03.439173300Z",
     "start_time": "2023-08-18T18:22:57.581629Z"
    }
   },
   "id": "2adf63188be39882"
  },
  {
   "cell_type": "markdown",
   "source": [
    "## PyMEOS objects generation\n",
    "Now, we use the original dataset to build the PyMEOS temporal objects."
   ],
   "metadata": {
    "collapsed": false
   },
   "id": "f4674d7c1ec61244"
  },
  {
   "cell_type": "code",
   "execution_count": 14,
   "outputs": [],
   "source": [
    "trajectories = raw[['Trajectory ID', 'Timestamp']].copy()"
   ],
   "metadata": {
    "collapsed": false,
    "ExecuteTime": {
     "end_time": "2023-08-18T18:24:01.587185300Z",
     "start_time": "2023-08-18T18:24:01.382364200Z"
    }
   },
   "id": "3d6d64827ed66cd9"
  },
  {
   "cell_type": "markdown",
   "source": [
    "We start by generating an instant object (`TFloatInst` and `TGeomPointInst`) from the original data"
   ],
   "metadata": {
    "collapsed": false
   },
   "id": "28c9856c4e11b148"
  },
  {
   "cell_type": "code",
   "execution_count": 15,
   "outputs": [
    {
     "data": {
      "text/plain": "  0%|          | 0/3034553 [00:00<?, ?it/s]",
      "application/vnd.jupyter.widget-view+json": {
       "version_major": 2,
       "version_minor": 0,
       "model_id": "838a04dce96b4b44bc7b9e34a442de3e"
      }
     },
     "metadata": {},
     "output_type": "display_data"
    },
    {
     "data": {
      "text/plain": "  0%|          | 0/3034553 [00:00<?, ?it/s]",
      "application/vnd.jupyter.widget-view+json": {
       "version_major": 2,
       "version_minor": 0,
       "model_id": "c48d0eae99ab428ca1f4cf912f9dd81d"
      }
     },
     "metadata": {},
     "output_type": "display_data"
    },
    {
     "data": {
      "text/plain": "  0%|          | 0/3034553 [00:00<?, ?it/s]",
      "application/vnd.jupyter.widget-view+json": {
       "version_major": 2,
       "version_minor": 0,
       "model_id": "72cd0603063b42b29da4af6d15c6e97c"
      }
     },
     "metadata": {},
     "output_type": "display_data"
    },
    {
     "data": {
      "text/plain": "   Trajectory ID           Timestamp                      Speed  \\\n0          70014 2019-04-11 00:40:36  18@2019-04-11 00:40:36+02   \n1          73573 2019-04-18 10:17:03  17@2019-04-18 10:17:03+02   \n2          75567 2019-04-13 07:37:06  14@2019-04-13 07:37:06+02   \n3           1410 2019-04-20 03:41:33  13@2019-04-20 03:41:33+02   \n4           4354 2019-04-18 10:48:17  14@2019-04-18 10:48:17+02   \n\n                      Bearing  \\\n0  248@2019-04-11 00:40:36+02   \n1   44@2019-04-18 10:17:03+02   \n2   34@2019-04-13 07:37:06+02   \n3  181@2019-04-20 03:41:33+02   \n4   93@2019-04-18 10:48:17+02   \n\n                                            Location  \n0  01010000001A8A3BDEE4F85940555689682A7AF53F@201...  \n1  01010000002B5904B5CEF65940D4884FF00326F53F@201...  \n2  0101000000C01A0C1A1FF75940C177F6F0C03BF53F@201...  \n3  0101000000D188E30AB9F459400191346E2033F43F@201...  \n4  01010000000F208D54A9F359403733FAD1708AF43F@201...  ",
      "text/html": "<div>\n<style scoped>\n    .dataframe tbody tr th:only-of-type {\n        vertical-align: middle;\n    }\n\n    .dataframe tbody tr th {\n        vertical-align: top;\n    }\n\n    .dataframe thead th {\n        text-align: right;\n    }\n</style>\n<table border=\"1\" class=\"dataframe\">\n  <thead>\n    <tr style=\"text-align: right;\">\n      <th></th>\n      <th>Trajectory ID</th>\n      <th>Timestamp</th>\n      <th>Speed</th>\n      <th>Bearing</th>\n      <th>Location</th>\n    </tr>\n  </thead>\n  <tbody>\n    <tr>\n      <th>0</th>\n      <td>70014</td>\n      <td>2019-04-11 00:40:36</td>\n      <td>18@2019-04-11 00:40:36+02</td>\n      <td>248@2019-04-11 00:40:36+02</td>\n      <td>01010000001A8A3BDEE4F85940555689682A7AF53F@201...</td>\n    </tr>\n    <tr>\n      <th>1</th>\n      <td>73573</td>\n      <td>2019-04-18 10:17:03</td>\n      <td>17@2019-04-18 10:17:03+02</td>\n      <td>44@2019-04-18 10:17:03+02</td>\n      <td>01010000002B5904B5CEF65940D4884FF00326F53F@201...</td>\n    </tr>\n    <tr>\n      <th>2</th>\n      <td>75567</td>\n      <td>2019-04-13 07:37:06</td>\n      <td>14@2019-04-13 07:37:06+02</td>\n      <td>34@2019-04-13 07:37:06+02</td>\n      <td>0101000000C01A0C1A1FF75940C177F6F0C03BF53F@201...</td>\n    </tr>\n    <tr>\n      <th>3</th>\n      <td>1410</td>\n      <td>2019-04-20 03:41:33</td>\n      <td>13@2019-04-20 03:41:33+02</td>\n      <td>181@2019-04-20 03:41:33+02</td>\n      <td>0101000000D188E30AB9F459400191346E2033F43F@201...</td>\n    </tr>\n    <tr>\n      <th>4</th>\n      <td>4354</td>\n      <td>2019-04-18 10:48:17</td>\n      <td>14@2019-04-18 10:48:17+02</td>\n      <td>93@2019-04-18 10:48:17+02</td>\n      <td>01010000000F208D54A9F359403733FAD1708AF43F@201...</td>\n    </tr>\n  </tbody>\n</table>\n</div>"
     },
     "execution_count": 15,
     "metadata": {},
     "output_type": "execute_result"
    }
   ],
   "source": [
    "trajectories['Speed'] = raw.progress_apply(lambda row: TFloatInst(value=row['Speed'], timestamp=row['Timestamp']),\n",
    "                                           axis=1)\n",
    "trajectories['Bearing'] = raw.progress_apply(lambda row: TFloatInst(value=row['Bearing'], timestamp=row['Timestamp']),\n",
    "                                             axis=1)\n",
    "trajectories['Location'] = raw.progress_apply(\n",
    "    lambda row: TGeomPointInst(point=row['Location'], timestamp=row['Timestamp']), axis=1)\n",
    "trajectories.head()"
   ],
   "metadata": {
    "collapsed": false,
    "ExecuteTime": {
     "end_time": "2023-08-18T18:59:57.805775800Z",
     "start_time": "2023-08-18T18:24:31.882092900Z"
    }
   },
   "id": "57894f54bf9bc17c"
  },
  {
   "cell_type": "code",
   "execution_count": 16,
   "outputs": [],
   "source": [
    "t = trajectories[['Trajectory ID', 'Timestamp']].copy()\n",
    "t['Speed'] = trajectories['Speed'].map(lambda x: x.as_hexwkb())\n",
    "t['Bearing'] = trajectories['Bearing'].map(lambda x: x.as_hexwkb())\n",
    "t['Location'] = trajectories['Location'].map(lambda x: x.as_hexwkb())\n",
    "t.to_csv('singapore_instants.csv', index=False)"
   ],
   "metadata": {
    "collapsed": false,
    "ExecuteTime": {
     "end_time": "2023-08-18T19:07:34.673219700Z",
     "start_time": "2023-08-18T18:59:57.403208300Z"
    }
   },
   "id": "818c80966d0664c0"
  },
  {
   "cell_type": "code",
   "execution_count": 4,
   "outputs": [
    {
     "data": {
      "text/plain": "   Unnamed: 0  Trajectory ID                      Speed  \\\n0           0          70014  18@2019-04-11 00:40:36+02   \n1           1          73573  17@2019-04-18 10:17:03+02   \n2           2          75567  14@2019-04-13 07:37:06+02   \n3           3           1410  13@2019-04-20 03:41:33+02   \n4           4           4354  14@2019-04-18 10:48:17+02   \n\n                      Bearing  \\\n0  248@2019-04-11 00:40:36+02   \n1   44@2019-04-18 10:17:03+02   \n2   34@2019-04-13 07:37:06+02   \n3  181@2019-04-20 03:41:33+02   \n4   93@2019-04-18 10:48:17+02   \n\n                                            Location  \n0  01010000001A8A3BDEE4F85940555689682A7AF53F@201...  \n1  01010000002B5904B5CEF65940D4884FF00326F53F@201...  \n2  0101000000C01A0C1A1FF75940C177F6F0C03BF53F@201...  \n3  0101000000D188E30AB9F459400191346E2033F43F@201...  \n4  01010000000F208D54A9F359403733FAD1708AF43F@201...  ",
      "text/html": "<div>\n<style scoped>\n    .dataframe tbody tr th:only-of-type {\n        vertical-align: middle;\n    }\n\n    .dataframe tbody tr th {\n        vertical-align: top;\n    }\n\n    .dataframe thead th {\n        text-align: right;\n    }\n</style>\n<table border=\"1\" class=\"dataframe\">\n  <thead>\n    <tr style=\"text-align: right;\">\n      <th></th>\n      <th>Unnamed: 0</th>\n      <th>Trajectory ID</th>\n      <th>Speed</th>\n      <th>Bearing</th>\n      <th>Location</th>\n    </tr>\n  </thead>\n  <tbody>\n    <tr>\n      <th>0</th>\n      <td>0</td>\n      <td>70014</td>\n      <td>18@2019-04-11 00:40:36+02</td>\n      <td>248@2019-04-11 00:40:36+02</td>\n      <td>01010000001A8A3BDEE4F85940555689682A7AF53F@201...</td>\n    </tr>\n    <tr>\n      <th>1</th>\n      <td>1</td>\n      <td>73573</td>\n      <td>17@2019-04-18 10:17:03+02</td>\n      <td>44@2019-04-18 10:17:03+02</td>\n      <td>01010000002B5904B5CEF65940D4884FF00326F53F@201...</td>\n    </tr>\n    <tr>\n      <th>2</th>\n      <td>2</td>\n      <td>75567</td>\n      <td>14@2019-04-13 07:37:06+02</td>\n      <td>34@2019-04-13 07:37:06+02</td>\n      <td>0101000000C01A0C1A1FF75940C177F6F0C03BF53F@201...</td>\n    </tr>\n    <tr>\n      <th>3</th>\n      <td>3</td>\n      <td>1410</td>\n      <td>13@2019-04-20 03:41:33+02</td>\n      <td>181@2019-04-20 03:41:33+02</td>\n      <td>0101000000D188E30AB9F459400191346E2033F43F@201...</td>\n    </tr>\n    <tr>\n      <th>4</th>\n      <td>4</td>\n      <td>4354</td>\n      <td>14@2019-04-18 10:48:17+02</td>\n      <td>93@2019-04-18 10:48:17+02</td>\n      <td>01010000000F208D54A9F359403733FAD1708AF43F@201...</td>\n    </tr>\n  </tbody>\n</table>\n</div>"
     },
     "execution_count": 4,
     "metadata": {},
     "output_type": "execute_result"
    }
   ],
   "source": [
    "trajectories = pd.read_csv('singapore_instants.csv', parse_dates=['Timestamp'], converters={\n",
    "    'Speed': TFloatInst.from_hexwkb,\n",
    "    'Bearing': TFloatInst.from_hexwkb,\n",
    "    'Location': TGeomPointInst.from_hexwkb\n",
    "})\n",
    "trajectories.head()"
   ],
   "metadata": {
    "collapsed": false,
    "ExecuteTime": {
     "end_time": "2023-08-18T19:40:12.184718500Z",
     "start_time": "2023-08-18T19:39:24.700809800Z"
    }
   },
   "id": "f6b0d2c3c6bb7b79"
  },
  {
   "cell_type": "code",
   "execution_count": 5,
   "outputs": [
    {
     "data": {
      "text/plain": "   Unnamed: 0  Trajectory ID                      Speed  \\\n0           0          70014  18@2019-04-11 00:40:36+02   \n1           1          73573  17@2019-04-18 10:17:03+02   \n2           2          75567  14@2019-04-13 07:37:06+02   \n3           3           1410  13@2019-04-20 03:41:33+02   \n4           4           4354  14@2019-04-18 10:48:17+02   \n\n                      Bearing  \\\n0  248@2019-04-11 00:40:36+02   \n1   44@2019-04-18 10:17:03+02   \n2   34@2019-04-13 07:37:06+02   \n3  181@2019-04-20 03:41:33+02   \n4   93@2019-04-18 10:48:17+02   \n\n                                            Location                 Timestamp  \n0  01010000001A8A3BDEE4F85940555689682A7AF53F@201... 2019-04-11 00:40:36+02:00  \n1  01010000002B5904B5CEF65940D4884FF00326F53F@201... 2019-04-18 10:17:03+02:00  \n2  0101000000C01A0C1A1FF75940C177F6F0C03BF53F@201... 2019-04-13 07:37:06+02:00  \n3  0101000000D188E30AB9F459400191346E2033F43F@201... 2019-04-20 03:41:33+02:00  \n4  01010000000F208D54A9F359403733FAD1708AF43F@201... 2019-04-18 10:48:17+02:00  ",
      "text/html": "<div>\n<style scoped>\n    .dataframe tbody tr th:only-of-type {\n        vertical-align: middle;\n    }\n\n    .dataframe tbody tr th {\n        vertical-align: top;\n    }\n\n    .dataframe thead th {\n        text-align: right;\n    }\n</style>\n<table border=\"1\" class=\"dataframe\">\n  <thead>\n    <tr style=\"text-align: right;\">\n      <th></th>\n      <th>Unnamed: 0</th>\n      <th>Trajectory ID</th>\n      <th>Speed</th>\n      <th>Bearing</th>\n      <th>Location</th>\n      <th>Timestamp</th>\n    </tr>\n  </thead>\n  <tbody>\n    <tr>\n      <th>0</th>\n      <td>0</td>\n      <td>70014</td>\n      <td>18@2019-04-11 00:40:36+02</td>\n      <td>248@2019-04-11 00:40:36+02</td>\n      <td>01010000001A8A3BDEE4F85940555689682A7AF53F@201...</td>\n      <td>2019-04-11 00:40:36+02:00</td>\n    </tr>\n    <tr>\n      <th>1</th>\n      <td>1</td>\n      <td>73573</td>\n      <td>17@2019-04-18 10:17:03+02</td>\n      <td>44@2019-04-18 10:17:03+02</td>\n      <td>01010000002B5904B5CEF65940D4884FF00326F53F@201...</td>\n      <td>2019-04-18 10:17:03+02:00</td>\n    </tr>\n    <tr>\n      <th>2</th>\n      <td>2</td>\n      <td>75567</td>\n      <td>14@2019-04-13 07:37:06+02</td>\n      <td>34@2019-04-13 07:37:06+02</td>\n      <td>0101000000C01A0C1A1FF75940C177F6F0C03BF53F@201...</td>\n      <td>2019-04-13 07:37:06+02:00</td>\n    </tr>\n    <tr>\n      <th>3</th>\n      <td>3</td>\n      <td>1410</td>\n      <td>13@2019-04-20 03:41:33+02</td>\n      <td>181@2019-04-20 03:41:33+02</td>\n      <td>0101000000D188E30AB9F459400191346E2033F43F@201...</td>\n      <td>2019-04-20 03:41:33+02:00</td>\n    </tr>\n    <tr>\n      <th>4</th>\n      <td>4</td>\n      <td>4354</td>\n      <td>14@2019-04-18 10:48:17+02</td>\n      <td>93@2019-04-18 10:48:17+02</td>\n      <td>01010000000F208D54A9F359403733FAD1708AF43F@201...</td>\n      <td>2019-04-18 10:48:17+02:00</td>\n    </tr>\n  </tbody>\n</table>\n</div>"
     },
     "execution_count": 5,
     "metadata": {},
     "output_type": "execute_result"
    }
   ],
   "source": [
    "trajectories['Timestamp'] = trajectories['Speed'].map(lambda speed: speed.timestamp())\n",
    "trajectories.head()"
   ],
   "metadata": {
    "collapsed": false,
    "ExecuteTime": {
     "end_time": "2023-08-18T19:42:46.895310800Z",
     "start_time": "2023-08-18T19:40:12.181721500Z"
    }
   },
   "id": "ec6b5b6223e0f3e5"
  },
  {
   "cell_type": "markdown",
   "source": [
    "Now, we sort the rows by time, and aggregate them by Trajectory ID, aggregating the columns in lists"
   ],
   "metadata": {
    "collapsed": false
   },
   "id": "bcf266fabab205f6"
  },
  {
   "cell_type": "code",
   "execution_count": 6,
   "outputs": [
    {
     "data": {
      "text/plain": "                                                      Unnamed: 0  \\\nTrajectory ID                                                      \n2              [1766918, 1766774, 1768732, 1759413, 1767261, ...   \n3              [244964, 248831, 252494, 258537, 248572, 25208...   \n4              [1134392, 1131321, 1139425, 1132423, 1132339, ...   \n5              [693513, 695204, 697258, 703039, 696074, 69914...   \n8              [1902631, 1909677, 1894085, 1899668, 1909055, ...   \n\n                                                           Speed  \\\nTrajectory ID                                                      \n2              [25@2019-04-09 02:38:49+02, 25@2019-04-09 02:3...   \n3              [5@2019-04-12 08:32:42+02, 8@2019-04-12 08:32:...   \n4              [7@2019-04-13 10:42:46+02, 7@2019-04-13 10:42:...   \n5              [2@2019-04-20 01:39:39+02, 10@2019-04-20 01:39...   \n8              [13@2019-04-11 07:24:36+02, 0@2019-04-11 07:25...   \n\n                                                         Bearing  \\\nTrajectory ID                                                      \n2              [97@2019-04-09 02:38:49+02, 93@2019-04-09 02:3...   \n3              [106@2019-04-12 08:32:42+02, 122@2019-04-12 08...   \n4              [205@2019-04-13 10:42:46+02, 194@2019-04-13 10...   \n5              [28@2019-04-20 01:39:39+02, 38@2019-04-20 01:3...   \n8              [319@2019-04-11 07:24:36+02, 0@2019-04-11 07:2...   \n\n                                                        Location  \\\nTrajectory ID                                                      \n2              [0101000000D5C7E825EBF659408BC0FD254E53F43F@20...   \n3              [0101000000961A52047BF659400315C0F94285F43F@20...   \n4              [0101000000BE8AE7C73AF75940BA72AC414EAEF53F@20...   \n5              [0101000000699F86A7B9F159400992A5284274F53F@20...   \n8              [010100000095946016FFFC5940F36ED16E9958F53F@20...   \n\n                                                       Timestamp  \nTrajectory ID                                                     \n2              [2019-04-09 02:38:49+02:00, 2019-04-09 02:38:5...  \n3              [2019-04-12 08:32:42+02:00, 2019-04-12 08:32:4...  \n4              [2019-04-13 10:42:46+02:00, 2019-04-13 10:42:5...  \n5              [2019-04-20 01:39:39+02:00, 2019-04-20 01:39:5...  \n8              [2019-04-11 07:24:36+02:00, 2019-04-11 07:25:0...  ",
      "text/html": "<div>\n<style scoped>\n    .dataframe tbody tr th:only-of-type {\n        vertical-align: middle;\n    }\n\n    .dataframe tbody tr th {\n        vertical-align: top;\n    }\n\n    .dataframe thead th {\n        text-align: right;\n    }\n</style>\n<table border=\"1\" class=\"dataframe\">\n  <thead>\n    <tr style=\"text-align: right;\">\n      <th></th>\n      <th>Unnamed: 0</th>\n      <th>Speed</th>\n      <th>Bearing</th>\n      <th>Location</th>\n      <th>Timestamp</th>\n    </tr>\n    <tr>\n      <th>Trajectory ID</th>\n      <th></th>\n      <th></th>\n      <th></th>\n      <th></th>\n      <th></th>\n    </tr>\n  </thead>\n  <tbody>\n    <tr>\n      <th>2</th>\n      <td>[1766918, 1766774, 1768732, 1759413, 1767261, ...</td>\n      <td>[25@2019-04-09 02:38:49+02, 25@2019-04-09 02:3...</td>\n      <td>[97@2019-04-09 02:38:49+02, 93@2019-04-09 02:3...</td>\n      <td>[0101000000D5C7E825EBF659408BC0FD254E53F43F@20...</td>\n      <td>[2019-04-09 02:38:49+02:00, 2019-04-09 02:38:5...</td>\n    </tr>\n    <tr>\n      <th>3</th>\n      <td>[244964, 248831, 252494, 258537, 248572, 25208...</td>\n      <td>[5@2019-04-12 08:32:42+02, 8@2019-04-12 08:32:...</td>\n      <td>[106@2019-04-12 08:32:42+02, 122@2019-04-12 08...</td>\n      <td>[0101000000961A52047BF659400315C0F94285F43F@20...</td>\n      <td>[2019-04-12 08:32:42+02:00, 2019-04-12 08:32:4...</td>\n    </tr>\n    <tr>\n      <th>4</th>\n      <td>[1134392, 1131321, 1139425, 1132423, 1132339, ...</td>\n      <td>[7@2019-04-13 10:42:46+02, 7@2019-04-13 10:42:...</td>\n      <td>[205@2019-04-13 10:42:46+02, 194@2019-04-13 10...</td>\n      <td>[0101000000BE8AE7C73AF75940BA72AC414EAEF53F@20...</td>\n      <td>[2019-04-13 10:42:46+02:00, 2019-04-13 10:42:5...</td>\n    </tr>\n    <tr>\n      <th>5</th>\n      <td>[693513, 695204, 697258, 703039, 696074, 69914...</td>\n      <td>[2@2019-04-20 01:39:39+02, 10@2019-04-20 01:39...</td>\n      <td>[28@2019-04-20 01:39:39+02, 38@2019-04-20 01:3...</td>\n      <td>[0101000000699F86A7B9F159400992A5284274F53F@20...</td>\n      <td>[2019-04-20 01:39:39+02:00, 2019-04-20 01:39:5...</td>\n    </tr>\n    <tr>\n      <th>8</th>\n      <td>[1902631, 1909677, 1894085, 1899668, 1909055, ...</td>\n      <td>[13@2019-04-11 07:24:36+02, 0@2019-04-11 07:25...</td>\n      <td>[319@2019-04-11 07:24:36+02, 0@2019-04-11 07:2...</td>\n      <td>[010100000095946016FFFC5940F36ED16E9958F53F@20...</td>\n      <td>[2019-04-11 07:24:36+02:00, 2019-04-11 07:25:0...</td>\n    </tr>\n  </tbody>\n</table>\n</div>"
     },
     "execution_count": 6,
     "metadata": {},
     "output_type": "execute_result"
    }
   ],
   "source": [
    "trajectories = trajectories.sort_values(by='Timestamp').groupby('Trajectory ID').agg(list)\n",
    "trajectories.head()"
   ],
   "metadata": {
    "collapsed": false,
    "ExecuteTime": {
     "end_time": "2023-08-18T19:43:50.555175200Z",
     "start_time": "2023-08-18T19:43:42.720943500Z"
    }
   },
   "id": "fc1a7ed8c67a3bd5"
  },
  {
   "cell_type": "code",
   "execution_count": 8,
   "outputs": [
    {
     "data": {
      "text/plain": "                                                           Speed  \\\nTrajectory ID                                                      \n2              [25@2019-04-09 02:38:49+02, 25@2019-04-09 02:3...   \n3              [5@2019-04-12 08:32:42+02, 8@2019-04-12 08:32:...   \n4              [7@2019-04-13 10:42:46+02, 7@2019-04-13 10:42:...   \n5              [2@2019-04-20 01:39:39+02, 10@2019-04-20 01:39...   \n8              [13@2019-04-11 07:24:36+02, 0@2019-04-11 07:25...   \n\n                                                         Bearing  \\\nTrajectory ID                                                      \n2              [97@2019-04-09 02:38:49+02, 93@2019-04-09 02:3...   \n3              [106@2019-04-12 08:32:42+02, 122@2019-04-12 08...   \n4              [205@2019-04-13 10:42:46+02, 194@2019-04-13 10...   \n5              [28@2019-04-20 01:39:39+02, 38@2019-04-20 01:3...   \n8              [319@2019-04-11 07:24:36+02, 0@2019-04-11 07:2...   \n\n                                                        Location  \\\nTrajectory ID                                                      \n2              [0101000000D5C7E825EBF659408BC0FD254E53F43F@20...   \n3              [0101000000961A52047BF659400315C0F94285F43F@20...   \n4              [0101000000BE8AE7C73AF75940BA72AC414EAEF53F@20...   \n5              [0101000000699F86A7B9F159400992A5284274F53F@20...   \n8              [010100000095946016FFFC5940F36ED16E9958F53F@20...   \n\n                                                       Timestamp  \nTrajectory ID                                                     \n2              [2019-04-09 02:38:49+02:00, 2019-04-09 02:38:5...  \n3              [2019-04-12 08:32:42+02:00, 2019-04-12 08:32:4...  \n4              [2019-04-13 10:42:46+02:00, 2019-04-13 10:42:5...  \n5              [2019-04-20 01:39:39+02:00, 2019-04-20 01:39:5...  \n8              [2019-04-11 07:24:36+02:00, 2019-04-11 07:25:0...  ",
      "text/html": "<div>\n<style scoped>\n    .dataframe tbody tr th:only-of-type {\n        vertical-align: middle;\n    }\n\n    .dataframe tbody tr th {\n        vertical-align: top;\n    }\n\n    .dataframe thead th {\n        text-align: right;\n    }\n</style>\n<table border=\"1\" class=\"dataframe\">\n  <thead>\n    <tr style=\"text-align: right;\">\n      <th></th>\n      <th>Speed</th>\n      <th>Bearing</th>\n      <th>Location</th>\n      <th>Timestamp</th>\n    </tr>\n    <tr>\n      <th>Trajectory ID</th>\n      <th></th>\n      <th></th>\n      <th></th>\n      <th></th>\n    </tr>\n  </thead>\n  <tbody>\n    <tr>\n      <th>2</th>\n      <td>[25@2019-04-09 02:38:49+02, 25@2019-04-09 02:3...</td>\n      <td>[97@2019-04-09 02:38:49+02, 93@2019-04-09 02:3...</td>\n      <td>[0101000000D5C7E825EBF659408BC0FD254E53F43F@20...</td>\n      <td>[2019-04-09 02:38:49+02:00, 2019-04-09 02:38:5...</td>\n    </tr>\n    <tr>\n      <th>3</th>\n      <td>[5@2019-04-12 08:32:42+02, 8@2019-04-12 08:32:...</td>\n      <td>[106@2019-04-12 08:32:42+02, 122@2019-04-12 08...</td>\n      <td>[0101000000961A52047BF659400315C0F94285F43F@20...</td>\n      <td>[2019-04-12 08:32:42+02:00, 2019-04-12 08:32:4...</td>\n    </tr>\n    <tr>\n      <th>4</th>\n      <td>[7@2019-04-13 10:42:46+02, 7@2019-04-13 10:42:...</td>\n      <td>[205@2019-04-13 10:42:46+02, 194@2019-04-13 10...</td>\n      <td>[0101000000BE8AE7C73AF75940BA72AC414EAEF53F@20...</td>\n      <td>[2019-04-13 10:42:46+02:00, 2019-04-13 10:42:5...</td>\n    </tr>\n    <tr>\n      <th>5</th>\n      <td>[2@2019-04-20 01:39:39+02, 10@2019-04-20 01:39...</td>\n      <td>[28@2019-04-20 01:39:39+02, 38@2019-04-20 01:3...</td>\n      <td>[0101000000699F86A7B9F159400992A5284274F53F@20...</td>\n      <td>[2019-04-20 01:39:39+02:00, 2019-04-20 01:39:5...</td>\n    </tr>\n    <tr>\n      <th>8</th>\n      <td>[13@2019-04-11 07:24:36+02, 0@2019-04-11 07:25...</td>\n      <td>[319@2019-04-11 07:24:36+02, 0@2019-04-11 07:2...</td>\n      <td>[010100000095946016FFFC5940F36ED16E9958F53F@20...</td>\n      <td>[2019-04-11 07:24:36+02:00, 2019-04-11 07:25:0...</td>\n    </tr>\n  </tbody>\n</table>\n</div>"
     },
     "execution_count": 8,
     "metadata": {},
     "output_type": "execute_result"
    }
   ],
   "source": [
    "trajectories = trajectories.drop('Unnamed: 0', axis=1)\n",
    "trajectories.head()"
   ],
   "metadata": {
    "collapsed": false,
    "ExecuteTime": {
     "end_time": "2023-08-18T19:44:21.254295800Z",
     "start_time": "2023-08-18T19:44:21.179504800Z"
    }
   },
   "id": "1790fd33fe210dbe"
  },
  {
   "cell_type": "markdown",
   "source": [
    "Finally, instants are merged into PyMEOS Sequences"
   ],
   "metadata": {
    "collapsed": false
   },
   "id": "15740450efa3eaef"
  },
  {
   "cell_type": "code",
   "execution_count": 9,
   "outputs": [
    {
     "data": {
      "text/plain": "  0%|          | 0/28000 [00:00<?, ?it/s]",
      "application/vnd.jupyter.widget-view+json": {
       "version_major": 2,
       "version_minor": 0,
       "model_id": "c8f9d9ff5d604e0d9445c2f2fc8c51c1"
      }
     },
     "metadata": {},
     "output_type": "display_data"
    },
    {
     "data": {
      "text/plain": "  0%|          | 0/28000 [00:00<?, ?it/s]",
      "application/vnd.jupyter.widget-view+json": {
       "version_major": 2,
       "version_minor": 0,
       "model_id": "bdd641abb0954ff09eed204ada3df7c1"
      }
     },
     "metadata": {},
     "output_type": "display_data"
    },
    {
     "data": {
      "text/plain": "  0%|          | 0/28000 [00:00<?, ?it/s]",
      "application/vnd.jupyter.widget-view+json": {
       "version_major": 2,
       "version_minor": 0,
       "model_id": "d800447d032441ea87139d894c6c701c"
      }
     },
     "metadata": {},
     "output_type": "display_data"
    }
   ],
   "source": [
    "trajectories['Speed'] = trajectories['Speed'].progress_apply(lambda x: TFloatSeq(instant_list=x, upper_inc=True))\n",
    "trajectories['Bearing'] = trajectories['Bearing'].progress_apply(lambda x: TFloatSeq(instant_list=x, upper_inc=True))\n",
    "trajectories['Trajectory'] = trajectories['Location'].progress_apply(lambda x: TGeomPointSeq(instant_list=x, upper_inc=True).set_srid(25832))\n",
    "trajectories = trajectories.drop(['Location', 'Timestamp'], axis=1)"
   ],
   "metadata": {
    "collapsed": false,
    "ExecuteTime": {
     "end_time": "2023-08-18T19:44:45.230854400Z",
     "start_time": "2023-08-18T19:44:40.345098500Z"
    }
   },
   "id": "c642addee5c4dd20"
  },
  {
   "cell_type": "markdown",
   "source": [
    "We store the DataFrame in a csv file to save the processing.\n",
    "Sequence objects need to be transformed to text to be able to be parsed later.\n",
    "HexWKB format is chosen here."
   ],
   "metadata": {
    "collapsed": false
   },
   "id": "7709fd9ff5eb050d"
  },
  {
   "cell_type": "code",
   "execution_count": 10,
   "outputs": [],
   "source": [
    "t = trajectories[['Speed', 'Bearing', 'Trajectory']].copy()\n",
    "t['Speed'] = t['Speed'].map(lambda x: x.as_hexwkb())\n",
    "t['Bearing'] = t['Bearing'].map(lambda x: x.as_hexwkb())\n",
    "t['Trajectory'] = t['Trajectory'].map(lambda x: x.as_hexwkb())\n",
    "t.to_csv('singapore_trajectories.csv')"
   ],
   "metadata": {
    "collapsed": false,
    "ExecuteTime": {
     "end_time": "2023-08-18T19:45:31.629447800Z",
     "start_time": "2023-08-18T19:45:27.199542Z"
    }
   },
   "id": "180f9c961b4a148d"
  },
  {
   "cell_type": "code",
   "execution_count": 12,
   "outputs": [
    {
     "data": {
      "text/plain": "                                                           Speed  \\\nTrajectory ID                                                      \n2              [25@2019-04-09 02:38:49+02, 25@2019-04-09 02:3...   \n3              [5@2019-04-12 08:32:42+02, 8@2019-04-12 08:32:...   \n4              [7@2019-04-13 10:42:46+02, 7@2019-04-13 10:42:...   \n5              [2@2019-04-20 01:39:39+02, 10@2019-04-20 01:39...   \n8              [13@2019-04-11 07:24:36+02, 0@2019-04-11 07:25...   \n\n                                                         Bearing  \\\nTrajectory ID                                                      \n2              [97@2019-04-09 02:38:49+02, 93@2019-04-09 02:3...   \n3              [106@2019-04-12 08:32:42+02, 122@2019-04-12 08...   \n4              [205@2019-04-13 10:42:46+02, 194@2019-04-13 10...   \n5              [28@2019-04-20 01:39:39+02, 38@2019-04-20 01:3...   \n8              [319@2019-04-11 07:24:36+02, 0@2019-04-11 07:2...   \n\n                                                      Trajectory  \nTrajectory ID                                                     \n2              0128000E6900000003D5C7E825EBF659408BC0FD254E53...  \n3              0128000E5900000003961A52047BF659400315C0F94285...  \n4              0128000E6600000003BE8AE7C73AF75940BA72AC414EAE...  \n5              0128000E7400000003699F86A7B9F159400992A5284274...  \n8              0128000E5F0000000395946016FFFC5940F36ED16E9958...  ",
      "text/html": "<div>\n<style scoped>\n    .dataframe tbody tr th:only-of-type {\n        vertical-align: middle;\n    }\n\n    .dataframe tbody tr th {\n        vertical-align: top;\n    }\n\n    .dataframe thead th {\n        text-align: right;\n    }\n</style>\n<table border=\"1\" class=\"dataframe\">\n  <thead>\n    <tr style=\"text-align: right;\">\n      <th></th>\n      <th>Speed</th>\n      <th>Bearing</th>\n      <th>Trajectory</th>\n    </tr>\n    <tr>\n      <th>Trajectory ID</th>\n      <th></th>\n      <th></th>\n      <th></th>\n    </tr>\n  </thead>\n  <tbody>\n    <tr>\n      <th>2</th>\n      <td>[25@2019-04-09 02:38:49+02, 25@2019-04-09 02:3...</td>\n      <td>[97@2019-04-09 02:38:49+02, 93@2019-04-09 02:3...</td>\n      <td>0128000E6900000003D5C7E825EBF659408BC0FD254E53...</td>\n    </tr>\n    <tr>\n      <th>3</th>\n      <td>[5@2019-04-12 08:32:42+02, 8@2019-04-12 08:32:...</td>\n      <td>[106@2019-04-12 08:32:42+02, 122@2019-04-12 08...</td>\n      <td>0128000E5900000003961A52047BF659400315C0F94285...</td>\n    </tr>\n    <tr>\n      <th>4</th>\n      <td>[7@2019-04-13 10:42:46+02, 7@2019-04-13 10:42:...</td>\n      <td>[205@2019-04-13 10:42:46+02, 194@2019-04-13 10...</td>\n      <td>0128000E6600000003BE8AE7C73AF75940BA72AC414EAE...</td>\n    </tr>\n    <tr>\n      <th>5</th>\n      <td>[2@2019-04-20 01:39:39+02, 10@2019-04-20 01:39...</td>\n      <td>[28@2019-04-20 01:39:39+02, 38@2019-04-20 01:3...</td>\n      <td>0128000E7400000003699F86A7B9F159400992A5284274...</td>\n    </tr>\n    <tr>\n      <th>8</th>\n      <td>[13@2019-04-11 07:24:36+02, 0@2019-04-11 07:25...</td>\n      <td>[319@2019-04-11 07:24:36+02, 0@2019-04-11 07:2...</td>\n      <td>0128000E5F0000000395946016FFFC5940F36ED16E9958...</td>\n    </tr>\n  </tbody>\n</table>\n</div>"
     },
     "execution_count": 12,
     "metadata": {},
     "output_type": "execute_result"
    }
   ],
   "source": [
    "trajectories = pd.read_csv('singapore_trajectories.csv', index_col='Trajectory ID', converters={\n",
    "    'Speed': TFloatSeq.from_hexwkb,\n",
    "    'Bearing': TFloatSeq.from_hexwkb,\n",
    "    'Location': TGeomPointSeq.from_hexwkb\n",
    "})\n",
    "trajectories.head()"
   ],
   "metadata": {
    "collapsed": false,
    "ExecuteTime": {
     "end_time": "2023-08-18T19:46:50.058426600Z",
     "start_time": "2023-08-18T19:46:45.724617400Z"
    }
   },
   "id": "a4427e05d7a87834"
  }
 ],
 "metadata": {
  "kernelspec": {
   "display_name": "Python 3",
   "language": "python",
   "name": "python3"
  },
  "language_info": {
   "codemirror_mode": {
    "name": "ipython",
    "version": 2
   },
   "file_extension": ".py",
   "mimetype": "text/x-python",
   "name": "python",
   "nbconvert_exporter": "python",
   "pygments_lexer": "ipython2",
   "version": "2.7.6"
  }
 },
 "nbformat": 4,
 "nbformat_minor": 5
}
