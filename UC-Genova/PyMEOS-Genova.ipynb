{
 "cells": [
  {
   "cell_type": "code",
   "execution_count": null,
   "id": "initial_id",
   "metadata": {
    "collapsed": false
   },
   "outputs": [],
   "source": [
    "%matplotlib notebook\n",
    "import json\n",
    "\n",
    "import contextily as cx\n",
    "import pandas as pd\n",
    "import requests\n",
    "from matplotlib import pyplot as plt"
   ]
  },
  {
   "cell_type": "code",
   "execution_count": null,
   "id": "fca1fb567f98d989",
   "metadata": {
    "collapsed": false
   },
   "outputs": [],
   "source": [
    "line = pd.read_csv('003_1.fermate', sep=';', header=None, names=['id', 'name', 'longitude', 'latitude', 'vehicle'])\n",
    "line.head()"
   ]
  },
  {
   "cell_type": "code",
   "execution_count": null,
   "id": "fbea85bb3571023c",
   "metadata": {
    "collapsed": false
   },
   "outputs": [],
   "source": [
    "stops = pd.read_csv('003_1.punti', sep=';', header=None, names=['longitude', 'latitude'])\n",
    "stops.head()"
   ]
  },
  {
   "cell_type": "code",
   "execution_count": null,
   "id": "b2156a6ef9e9392e",
   "metadata": {
    "collapsed": false
   },
   "outputs": [],
   "source": [
    "_, ax = plt.subplots()\n",
    "_ = ax.plot(stops['longitude'], stops['latitude'])\n",
    "_ = ax.scatter(line[2], line[3])\n",
    "# _ = cx.add_basemap(ax, crs=4326, source=cx.providers.CartoDB.Voyager)"
   ]
  },
  {
   "cell_type": "code",
   "execution_count": null,
   "id": "ef5b11ab",
   "metadata": {},
   "outputs": [],
   "source": [
    "data = {'locations': json.loads(stops.to_json(orient='records'))}\n",
    "line_data = {'locations': json.loads(line[['longitude', 'latitude']].to_json(orient='records'))}"
   ]
  },
  {
   "cell_type": "code",
   "execution_count": null,
   "outputs": [],
   "source": [
    "response = requests.post('https://api.open-elevation.com/api/v1/lookup', json=data)\n",
    "elevated_data = response.json()"
   ],
   "metadata": {
    "collapsed": false
   },
   "id": "6d362ec712a858db"
  },
  {
   "cell_type": "code",
   "execution_count": null,
   "outputs": [],
   "source": [
    "line_response = requests.post('https://api.open-elevation.com/api/v1/lookup', json=line_data)\n",
    "elevated_line = line_response.json()"
   ],
   "metadata": {
    "collapsed": false
   },
   "id": "ee41e56b4f288621"
  },
  {
   "cell_type": "code",
   "execution_count": null,
   "outputs": [],
   "source": [
    "elevated_stops = pd.DataFrame.from_records(elevated_data['results'])\n",
    "elevated_stops"
   ],
   "metadata": {
    "collapsed": false
   },
   "id": "40e35d85d36f3500"
  },
  {
   "cell_type": "code",
   "execution_count": null,
   "outputs": [],
   "source": [
    "elevated_line = pd.DataFrame.from_records((elevated_line['results']))\n",
    "elevated_line.head()"
   ],
   "metadata": {
    "collapsed": false
   },
   "id": "ef797fcd5dcce1aa"
  },
  {
   "cell_type": "code",
   "execution_count": null,
   "outputs": [],
   "source": [
    "elevated_line.to_csv('elevated_line.csv', index=False)"
   ],
   "metadata": {
    "collapsed": false
   },
   "id": "bb9ed313bbc0b688"
  },
  {
   "cell_type": "code",
   "execution_count": null,
   "outputs": [],
   "source": [
    "fig = plt.figure(figsize=(12, 10))\n",
    "ax = fig.add_subplot(projection='3d')\n",
    "ax.plot(elevated_line['longitude'], elevated_line['latitude'], elevated_line['elevation'])"
   ],
   "metadata": {
    "collapsed": false
   },
   "id": "5ad1145b2e3af1f2"
  }
 ],
 "metadata": {
  "kernelspec": {
   "display_name": "Python 3",
   "language": "python",
   "name": "python3"
  },
  "language_info": {
   "codemirror_mode": {
    "name": "ipython",
    "version": 2
   },
   "file_extension": ".py",
   "mimetype": "text/x-python",
   "name": "python",
   "nbconvert_exporter": "python",
   "pygments_lexer": "ipython2",
   "version": "2.7.6"
  }
 },
 "nbformat": 4,
 "nbformat_minor": 5
}
