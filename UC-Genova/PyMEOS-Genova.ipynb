{
 "cells": [
  {
   "cell_type": "code",
   "execution_count": null,
   "outputs": [],
   "source": [
    "import pandas as pd\n",
    "from pymeos import *\n",
    "import shapely as shp\n",
    "import contextily as cx\n",
    "from matplotlib import pyplot as plt"
   ],
   "metadata": {
    "collapsed": false
   },
   "id": "initial_id"
  },
  {
   "cell_type": "code",
   "execution_count": null,
   "outputs": [],
   "source": [
    "line = pd.read_csv('003_1.fermate', sep=';', header=None)\n",
    "line.head()"
   ],
   "metadata": {
    "collapsed": false
   },
   "id": "fca1fb567f98d989"
  },
  {
   "cell_type": "code",
   "execution_count": null,
   "outputs": [],
   "source": [
    "stops = pd.read_csv('003_1.punti', sep=';', header=None)\n",
    "stops.head()"
   ],
   "metadata": {
    "collapsed": false
   },
   "id": "fbea85bb3571023c"
  },
  {
   "cell_type": "code",
   "execution_count": null,
   "outputs": [],
   "source": [
    "_, ax = plt.subplots(figsize=(24, 20))\n",
    "_ = ax.plot(stops[0], stops[1])\n",
    "_ = ax.scatter(line[2], line[3])\n",
    "_ = cx.add_basemap(ax, crs=4326, source=cx.providers.CartoDB.Voyager)"
   ],
   "metadata": {
    "collapsed": false
   },
   "id": "b2156a6ef9e9392e"
  }
 ],
 "metadata": {
  "kernelspec": {
   "display_name": "Python 3",
   "language": "python",
   "name": "python3"
  },
  "language_info": {
   "codemirror_mode": {
    "name": "ipython",
    "version": 2
   },
   "file_extension": ".py",
   "mimetype": "text/x-python",
   "name": "python",
   "nbconvert_exporter": "python",
   "pygments_lexer": "ipython2",
   "version": "2.7.6"
  }
 },
 "nbformat": 4,
 "nbformat_minor": 5
}
